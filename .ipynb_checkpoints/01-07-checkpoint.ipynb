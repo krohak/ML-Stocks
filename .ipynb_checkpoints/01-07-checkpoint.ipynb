{
 "cells": [
  {
   "cell_type": "markdown",
   "metadata": {},
   "source": [
    "# Portfolio Statistics\n",
    "created by krohak 2018-01-15"
   ]
  },
  {
   "cell_type": "code",
   "execution_count": 121,
   "metadata": {
    "collapsed": true
   },
   "outputs": [],
   "source": [
    "import os\n",
    "import pandas as pd\n",
    "import matplotlib.pyplot as plt\n",
    "import numpy as np\n",
    "from IPython.display import Image\n",
    "\n",
    "def symbol_to_path(symbol, base_dir=\"data\"):\n",
    "    \"\"\"Return CSV file path given ticker symbol.\"\"\"\n",
    "    return os.path.join(base_dir, \"{}.csv\".format(str(symbol)))\n",
    "\n",
    "\n",
    "def get_data(symbols, dates):\n",
    "    \"\"\"Read stock data (adjusted close) for given symbols from CSV files.\"\"\"\n",
    "    df = pd.DataFrame(index=dates)\n",
    "    if 'SPY' not in symbols:  # add SPY for reference, if absent\n",
    "        symbols.insert(0, 'SPY')\n",
    "\n",
    "    for symbol in symbols:\n",
    "        df_temp = pd.read_csv(symbol_to_path(symbol), index_col='Date',\n",
    "                parse_dates=True, usecols=['Date', 'Adj Close'], na_values=['nan'])\n",
    "        df_temp.rename(columns={'Adj Close': symbol}, inplace=True)\n",
    "        df = df.join(df_temp)\n",
    "        if symbol == 'SPY':  # drop dates SPY did not trade\n",
    "            df = df.dropna(subset=[\"SPY\"])\n",
    "    return df\n",
    "\n",
    "def compute_daily_returns(df):\n",
    "    \"\"\"Compute and return the daily return values.\"\"\"\n",
    "    daily_returns = (df / df.shift(1)) - 1\n",
    "    daily_returns.iloc[0, :] = 0\n",
    "    return daily_returns\n",
    "\n",
    "def plot_data(df, title=\"Stock prices\", xlabel=\"Date\", ylabel=\"Price\"):\n",
    "    \"\"\"Plot stock prices with a custom title and meaningful axis labels.\"\"\"\n",
    "    ax = df.plot(title=title, fontsize=12)\n",
    "    ax.set_xlabel(xlabel)\n",
    "    ax.set_ylabel(ylabel)\n",
    "    plt.show()\n",
    "    \n",
    "def normalize_data(df,daily_return=False):\n",
    "    if daily_return:\n",
    "        return df / df.iloc[1, :]\n",
    "    return df / df.iloc[0, :]"
   ]
  },
  {
   "cell_type": "markdown",
   "metadata": {},
   "source": [
    "First, we load stock price data:"
   ]
  },
  {
   "cell_type": "code",
   "execution_count": 122,
   "metadata": {},
   "outputs": [
    {
     "data": {
      "text/html": [
       "<div>\n",
       "<style>\n",
       "    .dataframe thead tr:only-child th {\n",
       "        text-align: right;\n",
       "    }\n",
       "\n",
       "    .dataframe thead th {\n",
       "        text-align: left;\n",
       "    }\n",
       "\n",
       "    .dataframe tbody tr th {\n",
       "        vertical-align: top;\n",
       "    }\n",
       "</style>\n",
       "<table border=\"1\" class=\"dataframe\">\n",
       "  <thead>\n",
       "    <tr style=\"text-align: right;\">\n",
       "      <th></th>\n",
       "      <th>SPY</th>\n",
       "      <th>XOM</th>\n",
       "      <th>GOOG</th>\n",
       "      <th>GLD</th>\n",
       "    </tr>\n",
       "  </thead>\n",
       "  <tbody>\n",
       "    <tr>\n",
       "      <th>2009-01-02</th>\n",
       "      <td>78.397410</td>\n",
       "      <td>64.835957</td>\n",
       "      <td>160.499779</td>\n",
       "      <td>86.230003</td>\n",
       "    </tr>\n",
       "    <tr>\n",
       "      <th>2009-01-05</th>\n",
       "      <td>78.304642</td>\n",
       "      <td>64.828014</td>\n",
       "      <td>163.861421</td>\n",
       "      <td>84.480003</td>\n",
       "    </tr>\n",
       "    <tr>\n",
       "      <th>2009-01-06</th>\n",
       "      <td>78.827518</td>\n",
       "      <td>63.771774</td>\n",
       "      <td>166.863420</td>\n",
       "      <td>85.129997</td>\n",
       "    </tr>\n",
       "    <tr>\n",
       "      <th>2009-01-07</th>\n",
       "      <td>76.466148</td>\n",
       "      <td>62.143725</td>\n",
       "      <td>160.844427</td>\n",
       "      <td>82.750000</td>\n",
       "    </tr>\n",
       "    <tr>\n",
       "      <th>2009-01-08</th>\n",
       "      <td>76.778188</td>\n",
       "      <td>62.810824</td>\n",
       "      <td>162.432840</td>\n",
       "      <td>84.459999</td>\n",
       "    </tr>\n",
       "  </tbody>\n",
       "</table>\n",
       "</div>"
      ],
      "text/plain": [
       "                  SPY        XOM        GOOG        GLD\n",
       "2009-01-02  78.397410  64.835957  160.499779  86.230003\n",
       "2009-01-05  78.304642  64.828014  163.861421  84.480003\n",
       "2009-01-06  78.827518  63.771774  166.863420  85.129997\n",
       "2009-01-07  76.466148  62.143725  160.844427  82.750000\n",
       "2009-01-08  76.778188  62.810824  162.432840  84.459999"
      ]
     },
     "execution_count": 122,
     "metadata": {},
     "output_type": "execute_result"
    }
   ],
   "source": [
    "dates = pd.date_range('2009-01-01', '2011-12-31')\n",
    "df = get_data(symbols=['XOM','GOOG','GLD'],dates=dates)\n",
    "df.head()"
   ]
  },
  {
   "cell_type": "markdown",
   "metadata": {},
   "source": [
    "Now we normalize the prices to the first day"
   ]
  },
  {
   "cell_type": "code",
   "execution_count": 123,
   "metadata": {},
   "outputs": [
    {
     "data": {
      "text/html": [
       "<div>\n",
       "<style>\n",
       "    .dataframe thead tr:only-child th {\n",
       "        text-align: right;\n",
       "    }\n",
       "\n",
       "    .dataframe thead th {\n",
       "        text-align: left;\n",
       "    }\n",
       "\n",
       "    .dataframe tbody tr th {\n",
       "        vertical-align: top;\n",
       "    }\n",
       "</style>\n",
       "<table border=\"1\" class=\"dataframe\">\n",
       "  <thead>\n",
       "    <tr style=\"text-align: right;\">\n",
       "      <th></th>\n",
       "      <th>SPY</th>\n",
       "      <th>XOM</th>\n",
       "      <th>GOOG</th>\n",
       "      <th>GLD</th>\n",
       "    </tr>\n",
       "  </thead>\n",
       "  <tbody>\n",
       "    <tr>\n",
       "      <th>2009-01-02</th>\n",
       "      <td>1.000000</td>\n",
       "      <td>1.000000</td>\n",
       "      <td>1.000000</td>\n",
       "      <td>1.000000</td>\n",
       "    </tr>\n",
       "    <tr>\n",
       "      <th>2009-01-05</th>\n",
       "      <td>0.998817</td>\n",
       "      <td>0.999877</td>\n",
       "      <td>1.020945</td>\n",
       "      <td>0.979705</td>\n",
       "    </tr>\n",
       "    <tr>\n",
       "      <th>2009-01-06</th>\n",
       "      <td>1.005486</td>\n",
       "      <td>0.983587</td>\n",
       "      <td>1.039649</td>\n",
       "      <td>0.987243</td>\n",
       "    </tr>\n",
       "    <tr>\n",
       "      <th>2009-01-07</th>\n",
       "      <td>0.975366</td>\n",
       "      <td>0.958476</td>\n",
       "      <td>1.002147</td>\n",
       "      <td>0.959643</td>\n",
       "    </tr>\n",
       "    <tr>\n",
       "      <th>2009-01-08</th>\n",
       "      <td>0.979346</td>\n",
       "      <td>0.968765</td>\n",
       "      <td>1.012044</td>\n",
       "      <td>0.979473</td>\n",
       "    </tr>\n",
       "  </tbody>\n",
       "</table>\n",
       "</div>"
      ],
      "text/plain": [
       "                 SPY       XOM      GOOG       GLD\n",
       "2009-01-02  1.000000  1.000000  1.000000  1.000000\n",
       "2009-01-05  0.998817  0.999877  1.020945  0.979705\n",
       "2009-01-06  1.005486  0.983587  1.039649  0.987243\n",
       "2009-01-07  0.975366  0.958476  1.002147  0.959643\n",
       "2009-01-08  0.979346  0.968765  1.012044  0.979473"
      ]
     },
     "execution_count": 123,
     "metadata": {},
     "output_type": "execute_result"
    }
   ],
   "source": [
    "normed = df/df.iloc[0,:]\n",
    "normed.head()"
   ]
  },
  {
   "cell_type": "markdown",
   "metadata": {},
   "source": [
    "We then scale each column by the allocation to each of the equiies in our portfolio:"
   ]
  },
  {
   "cell_type": "code",
   "execution_count": 124,
   "metadata": {},
   "outputs": [
    {
     "data": {
      "text/html": [
       "<div>\n",
       "<style>\n",
       "    .dataframe thead tr:only-child th {\n",
       "        text-align: right;\n",
       "    }\n",
       "\n",
       "    .dataframe thead th {\n",
       "        text-align: left;\n",
       "    }\n",
       "\n",
       "    .dataframe tbody tr th {\n",
       "        vertical-align: top;\n",
       "    }\n",
       "</style>\n",
       "<table border=\"1\" class=\"dataframe\">\n",
       "  <thead>\n",
       "    <tr style=\"text-align: right;\">\n",
       "      <th></th>\n",
       "      <th>SPY</th>\n",
       "      <th>XOM</th>\n",
       "      <th>GOOG</th>\n",
       "      <th>GLD</th>\n",
       "    </tr>\n",
       "  </thead>\n",
       "  <tbody>\n",
       "    <tr>\n",
       "      <th>2009-01-02</th>\n",
       "      <td>0.400000</td>\n",
       "      <td>0.400000</td>\n",
       "      <td>0.100000</td>\n",
       "      <td>0.100000</td>\n",
       "    </tr>\n",
       "    <tr>\n",
       "      <th>2009-01-05</th>\n",
       "      <td>0.399527</td>\n",
       "      <td>0.399951</td>\n",
       "      <td>0.102094</td>\n",
       "      <td>0.097971</td>\n",
       "    </tr>\n",
       "    <tr>\n",
       "      <th>2009-01-06</th>\n",
       "      <td>0.402195</td>\n",
       "      <td>0.393435</td>\n",
       "      <td>0.103965</td>\n",
       "      <td>0.098724</td>\n",
       "    </tr>\n",
       "    <tr>\n",
       "      <th>2009-01-07</th>\n",
       "      <td>0.390146</td>\n",
       "      <td>0.383391</td>\n",
       "      <td>0.100215</td>\n",
       "      <td>0.095964</td>\n",
       "    </tr>\n",
       "    <tr>\n",
       "      <th>2009-01-08</th>\n",
       "      <td>0.391738</td>\n",
       "      <td>0.387506</td>\n",
       "      <td>0.101204</td>\n",
       "      <td>0.097947</td>\n",
       "    </tr>\n",
       "  </tbody>\n",
       "</table>\n",
       "</div>"
      ],
      "text/plain": [
       "                 SPY       XOM      GOOG       GLD\n",
       "2009-01-02  0.400000  0.400000  0.100000  0.100000\n",
       "2009-01-05  0.399527  0.399951  0.102094  0.097971\n",
       "2009-01-06  0.402195  0.393435  0.103965  0.098724\n",
       "2009-01-07  0.390146  0.383391  0.100215  0.095964\n",
       "2009-01-08  0.391738  0.387506  0.101204  0.097947"
      ]
     },
     "execution_count": 124,
     "metadata": {},
     "output_type": "execute_result"
    }
   ],
   "source": [
    "allocs=[0.4,0.4,0.1,0.1]\n",
    "allocs=np.array(allocs)\n",
    "alloced=(normed*allocs)\n",
    "alloced.head()"
   ]
  },
  {
   "cell_type": "markdown",
   "metadata": {},
   "source": [
    "We then multiply all cells with the initial investment value"
   ]
  },
  {
   "cell_type": "code",
   "execution_count": 125,
   "metadata": {},
   "outputs": [
    {
     "data": {
      "text/html": [
       "<div>\n",
       "<style>\n",
       "    .dataframe thead tr:only-child th {\n",
       "        text-align: right;\n",
       "    }\n",
       "\n",
       "    .dataframe thead th {\n",
       "        text-align: left;\n",
       "    }\n",
       "\n",
       "    .dataframe tbody tr th {\n",
       "        vertical-align: top;\n",
       "    }\n",
       "</style>\n",
       "<table border=\"1\" class=\"dataframe\">\n",
       "  <thead>\n",
       "    <tr style=\"text-align: right;\">\n",
       "      <th></th>\n",
       "      <th>SPY</th>\n",
       "      <th>XOM</th>\n",
       "      <th>GOOG</th>\n",
       "      <th>GLD</th>\n",
       "    </tr>\n",
       "  </thead>\n",
       "  <tbody>\n",
       "    <tr>\n",
       "      <th>2009-01-02</th>\n",
       "      <td>400000.000000</td>\n",
       "      <td>400000.000000</td>\n",
       "      <td>100000.000000</td>\n",
       "      <td>100000.000000</td>\n",
       "    </tr>\n",
       "    <tr>\n",
       "      <th>2009-01-05</th>\n",
       "      <td>399526.678241</td>\n",
       "      <td>399950.996328</td>\n",
       "      <td>102094.483881</td>\n",
       "      <td>97970.543965</td>\n",
       "    </tr>\n",
       "    <tr>\n",
       "      <th>2009-01-06</th>\n",
       "      <td>402194.501068</td>\n",
       "      <td>393434.612217</td>\n",
       "      <td>103964.890818</td>\n",
       "      <td>98724.334963</td>\n",
       "    </tr>\n",
       "    <tr>\n",
       "      <th>2009-01-07</th>\n",
       "      <td>390146.296925</td>\n",
       "      <td>383390.500429</td>\n",
       "      <td>100214.734252</td>\n",
       "      <td>95964.278234</td>\n",
       "    </tr>\n",
       "    <tr>\n",
       "      <th>2009-01-08</th>\n",
       "      <td>391738.390337</td>\n",
       "      <td>387506.111771</td>\n",
       "      <td>101204.401035</td>\n",
       "      <td>97947.345543</td>\n",
       "    </tr>\n",
       "  </tbody>\n",
       "</table>\n",
       "</div>"
      ],
      "text/plain": [
       "                      SPY            XOM           GOOG            GLD\n",
       "2009-01-02  400000.000000  400000.000000  100000.000000  100000.000000\n",
       "2009-01-05  399526.678241  399950.996328  102094.483881   97970.543965\n",
       "2009-01-06  402194.501068  393434.612217  103964.890818   98724.334963\n",
       "2009-01-07  390146.296925  383390.500429  100214.734252   95964.278234\n",
       "2009-01-08  391738.390337  387506.111771  101204.401035   97947.345543"
      ]
     },
     "execution_count": 125,
     "metadata": {},
     "output_type": "execute_result"
    }
   ],
   "source": [
    "start_val=1000000\n",
    "pos_vals=alloced*start_val\n",
    "pos_vals.head()"
   ]
  },
  {
   "cell_type": "markdown",
   "metadata": {},
   "source": [
    "We then take the sum across axis 1 to get the value of portfolio on each day"
   ]
  },
  {
   "cell_type": "code",
   "execution_count": 126,
   "metadata": {},
   "outputs": [
    {
     "data": {
      "text/plain": [
       "2009-01-02    1000000.000000\n",
       "2009-01-05     999542.702414\n",
       "2009-01-06     998318.339065\n",
       "2009-01-07     969715.809839\n",
       "2009-01-08     978396.248686\n",
       "dtype: float64"
      ]
     },
     "execution_count": 126,
     "metadata": {},
     "output_type": "execute_result"
    }
   ],
   "source": [
    "port_val=pos_vals.sum(axis=1)\n",
    "port_val.head()"
   ]
  },
  {
   "cell_type": "markdown",
   "metadata": {},
   "source": [
    "Plotting the value of the portfolio:"
   ]
  },
  {
   "cell_type": "code",
   "execution_count": 127,
   "metadata": {},
   "outputs": [
    {
     "data": {
      "image/png": "[encoded data removed]",
      "text/plain": [
       "<matplotlib.figure.Figure at 0x7fe446d3d0f0>"
      ]
     },
     "metadata": {},
     "output_type": "display_data"
    }
   ],
   "source": [
    "port_val.plot()\n",
    "plt.show()"
   ]
  },
  {
   "cell_type": "markdown",
   "metadata": {},
   "source": [
    "The last value:"
   ]
  },
  {
   "cell_type": "code",
   "execution_count": 128,
   "metadata": {},
   "outputs": [
    {
     "data": {
      "text/plain": [
       "1399188.2357476228"
      ]
     },
     "execution_count": 128,
     "metadata": {},
     "output_type": "execute_result"
    }
   ],
   "source": [
    "port_val[-1]"
   ]
  },
  {
   "cell_type": "markdown",
   "metadata": {},
   "source": [
    "## Sharpe Ratio"
   ]
  },
  {
   "cell_type": "markdown",
   "metadata": {},
   "source": [
    "Below is the formula for sharpe_ratio\n",
    "![](sharpe_ratio.png)\n",
    "\n",
    "Where Rp is the Portfolio Return and Rf is the Risk-Free Rate of Return.\n",
    "This is an `ex-ante` measure of sharpe ratio since we are using Expected it is a forward looking measure of what the sharpe ratio should be.\n",
    "\n",
    "This translates to the following in python:\n",
    "![](sharpe_ratio2.png)\n"
   ]
  },
  {
   "cell_type": "markdown",
   "metadata": {},
   "source": [
    "### Risk Free Rate\n",
    "\n",
    "Traditionally, some numbers:\n",
    "1. LIBOR - London Inter Bank Offer Rate\n",
    "2. 3mo T-bill - Interest on 3 month Treasury Bill\n",
    "3. 0% - Good Approximation\n",
    "\n",
    "Traditional Shortcut:\n",
    "![](trad_short.png)"
   ]
  },
  {
   "cell_type": "markdown",
   "metadata": {},
   "source": [
    "### Final Formula for Sharpe  Ratio\n",
    "Thus, the final formula of calculaing Sharpe Ratio in python, since Rf is a constant:\n",
    "\n",
    "![](final_sharpe.png)"
   ]
  },
  {
   "cell_type": "markdown",
   "metadata": {},
   "source": [
    "## Frequency of Sampling \n",
    "\n",
    "Sharpe Ratio varies greatly depending on how frequently you sample the data. If measuring at frequencies other than **annualy**, we need to include an adjustment factor to make it work out\n",
    "\n",
    "![](k.png)\n",
    "\n",
    "where K is the adjustment factor we multiply to the computed Sharpe Ratio to get its annualized version.\n",
    "\n",
    "Thus, final equation of sharpe ratio:\n",
    "\n",
    "![](final_k.png)"
   ]
  },
  {
   "cell_type": "markdown",
   "metadata": {},
   "source": [
    "## Key Factors when evaluating the performance of a Portfolio:\n",
    "\n",
    "1. Cumulative Return (last/first-1)\n",
    "2. Average Daily Return\n",
    "3. Risk (std of daily return)\n",
    "4. Sharpe Ratio (daily return with risk factored in)\n",
    "\n",
    "Thus, the new functions are:"
   ]
  },
  {
   "cell_type": "code",
   "execution_count": 129,
   "metadata": {
    "collapsed": true
   },
   "outputs": [],
   "source": [
    "def cumulative_daily_return(df):\n",
    "    daily_return = compute_daily_returns(df)\n",
    "    cumulative_daily_return = (daily_return.iloc[-1,:]/daily_return.iloc[1,:])-1\n",
    "    return cumulative_daily_return"
   ]
  },
  {
   "cell_type": "code",
   "execution_count": 130,
   "metadata": {},
   "outputs": [
    {
     "name": "stdout",
     "output_type": "stream",
     "text": [
      "SPY      3.154444\n",
      "XOM     47.820383\n",
      "GOOG    -0.739872\n",
      "GLD     -1.540794\n",
      "dtype: float64\n"
     ]
    }
   ],
   "source": [
    "print(cumulative_daily_return(df))"
   ]
  },
  {
   "cell_type": "code",
   "execution_count": 131,
   "metadata": {
    "collapsed": true
   },
   "outputs": [],
   "source": [
    "def average_daily_return(df):\n",
    "    daily_return = compute_daily_returns(df)\n",
    "    return daily_return.mean(axis=0)"
   ]
  },
  {
   "cell_type": "code",
   "execution_count": 132,
   "metadata": {},
   "outputs": [
    {
     "name": "stdout",
     "output_type": "stream",
     "text": [
      "SPY     0.000583\n",
      "XOM     0.000254\n",
      "GOOG    0.001091\n",
      "GLD     0.000824\n",
      "dtype: float64\n"
     ]
    }
   ],
   "source": [
    "print(average_daily_return(df))"
   ]
  },
  {
   "cell_type": "code",
   "execution_count": 133,
   "metadata": {
    "collapsed": true
   },
   "outputs": [],
   "source": [
    "def risk(df):\n",
    "    daily_return = compute_daily_returns(df)\n",
    "    return daily_return.std(axis=0)"
   ]
  },
  {
   "cell_type": "code",
   "execution_count": 134,
   "metadata": {},
   "outputs": [
    {
     "name": "stdout",
     "output_type": "stream",
     "text": [
      "SPY     0.014313\n",
      "XOM     0.014714\n",
      "GOOG    0.018354\n",
      "GLD     0.012195\n",
      "dtype: float64\n"
     ]
    }
   ],
   "source": [
    "print(risk(df))"
   ]
  },
  {
   "cell_type": "code",
   "execution_count": 135,
   "metadata": {
    "collapsed": true
   },
   "outputs": [],
   "source": [
    "def sharpe_ratio(df,daily_rf,k=1):\n",
    "    daily_return = compute_daily_returns(df)\n",
    "    return (daily_return-daily_rf).mean()*k/daily_return.std()"
   ]
  },
  {
   "cell_type": "code",
   "execution_count": 136,
   "metadata": {},
   "outputs": [
    {
     "name": "stdout",
     "output_type": "stream",
     "text": [
      "SPY     0.014302\n",
      "XOM    -0.008423\n",
      "GOOG    0.038848\n",
      "GLD     0.036584\n",
      "dtype: float64\n"
     ]
    }
   ],
   "source": [
    "print(sharpe_ratio(df,daily_rf=0.00037828653,k=1))"
   ]
  },
  {
   "cell_type": "markdown",
   "metadata": {},
   "source": [
    "We can see that the Sharpe Ratio of GOOG and GLD is similar. This can be visualized by plottting their normalized daily returns"
   ]
  },
  {
   "cell_type": "code",
   "execution_count": 141,
   "metadata": {},
   "outputs": [
    {
     "data": {
      "image/png": "[encoded data removed]",
      "text/plain": [
       "<matplotlib.figure.Figure at 0x7fe44a62b4a8>"
      ]
     },
     "metadata": {},
     "output_type": "display_data"
    }
   ],
   "source": [
    "daily_return = compute_daily_returns(df)\n",
    "normalized_daily_return = normalize_data(daily_return,daily_return=True)\n",
    "normalized_daily_return['GOOG'].plot()\n",
    "normalized_daily_return['GLD'].plot()\n",
    "plt.legend(loc='upper right')\n",
    "plt.show()"
   ]
  }
 ],
 "metadata": {
  "kernelspec": {
   "display_name": "Python 3",
   "language": "python",
   "name": "python3"
  },
  "language_info": {
   "codemirror_mode": {
    "name": "ipython",
    "version": 3
   },
   "file_extension": ".py",
   "mimetype": "text/x-python",
   "name": "python",
   "nbconvert_exporter": "python",
   "pygments_lexer": "ipython3",
   "version": "3.6.1"
  }
 },
 "nbformat": 4,
 "nbformat_minor": 2
}
