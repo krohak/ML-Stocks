{
 "cells": [
  {
   "cell_type": "markdown",
   "metadata": {},
   "source": [
    "# Optimizers\n",
    "created by krohak 2018-01-16"
   ]
  },
  {
   "cell_type": "code",
   "execution_count": 2,
   "metadata": {
    "collapsed": true
   },
   "outputs": [],
   "source": [
    "import os\n",
    "import pandas as pd\n",
    "import matplotlib.pyplot as plt\n",
    "import numpy as np\n",
    "\n",
    "def symbol_to_path(symbol, base_dir=\"data\"):\n",
    "    \"\"\"Return CSV file path given ticker symbol.\"\"\"\n",
    "    return os.path.join(base_dir, \"{}.csv\".format(str(symbol)))\n",
    "\n",
    "\n",
    "def get_data(symbols, dates):\n",
    "    \"\"\"Read stock data (adjusted close) for given symbols from CSV files.\"\"\"\n",
    "    df = pd.DataFrame(index=dates)\n",
    "    if 'SPY' not in symbols:  # add SPY for reference, if absent\n",
    "        symbols.insert(0, 'SPY')\n",
    "\n",
    "    for symbol in symbols:\n",
    "        df_temp = pd.read_csv(symbol_to_path(symbol), index_col='Date',\n",
    "                parse_dates=True, usecols=['Date', 'Adj Close'], na_values=['nan'])\n",
    "        df_temp.rename(columns={'Adj Close': symbol}, inplace=True)\n",
    "        df = df.join(df_temp)\n",
    "        if symbol == 'SPY':  # drop dates SPY did not trade\n",
    "            df = df.dropna(subset=[\"SPY\"])\n",
    "    return df\n",
    "\n",
    "def compute_daily_returns(df):\n",
    "    \"\"\"Compute and return the daily return values.\"\"\"\n",
    "    daily_returns = (df / df.shift(1)) - 1\n",
    "    daily_returns.iloc[0, :] = 0\n",
    "    return daily_returns\n",
    "\n",
    "def plot_data(df, title=\"Stock prices\", xlabel=\"Date\", ylabel=\"Price\"):\n",
    "    \"\"\"Plot stock prices with a custom title and meaningful axis labels.\"\"\"\n",
    "    ax = df.plot(title=title, fontsize=12)\n",
    "    ax.set_xlabel(xlabel)\n",
    "    ax.set_ylabel(ylabel)\n",
    "    plt.show()\n",
    "    \n",
    "def normalize_data(df,daily_return=False):\n",
    "    if daily_return:\n",
    "        return df / df.iloc[1, :]\n",
    "    return df / df.iloc[0, :]\n",
    "\n",
    "def cumulative_daily_return(df):\n",
    "    # Cumulative Return (last/first-1)\n",
    "    daily_return = compute_daily_returns(df)\n",
    "    cumulative_daily_return = (daily_return.iloc[-1,:]/daily_return.iloc[1,:])-1\n",
    "    return cumulative_daily_return\n",
    "\n",
    "def average_daily_return(df):\n",
    "    daily_return = compute_daily_returns(df)\n",
    "    return daily_return.mean(axis=0)\n",
    "\n",
    "def risk(df):\n",
    "    # Risk (std of daily return)\n",
    "    daily_return = compute_daily_returns(df)\n",
    "    return daily_return.std(axis=0)\n",
    "\n",
    "def sharpe_ratio(df,daily_rf,k=1):\n",
    "    # Sharpe Ratio (daily return with risk factored in)\n",
    "    daily_return = compute_daily_returns(df)\n",
    "    return (daily_return-daily_rf).mean()*k/daily_return.std()"
   ]
  },
  {
   "cell_type": "markdown",
   "metadata": {},
   "source": [
    "We also import scipy.optimize"
   ]
  },
  {
   "cell_type": "code",
   "execution_count": 3,
   "metadata": {
    "collapsed": true
   },
   "outputs": [],
   "source": [
    "import scipy.optimize as spo"
   ]
  },
  {
   "cell_type": "markdown",
   "metadata": {},
   "source": [
    "Defining a function f(x) and then using scipy.optimize to optimize it:"
   ]
  },
  {
   "cell_type": "code",
   "execution_count": 4,
   "metadata": {
    "collapsed": true
   },
   "outputs": [],
   "source": [
    "def f(x):\n",
    "    y = (x-1.5)**2 + 0.5\n",
    "    print(x,y)\n",
    "    return y"
   ]
  },
  {
   "cell_type": "code",
   "execution_count": 15,
   "metadata": {},
   "outputs": [],
   "source": [
    "def optimize_f(f):\n",
    "    guess = 2.0\n",
    "    min_result = spo.minimize(f,guess,method='SLSQP',options={'disp':True})\n",
    "    print(\"Minima found at %s, %s\"%(min_result.x , min_result.fun))\n",
    "In [48]:\n",
    "\n",
    "    return min_result"
   ]
  },
  {
   "cell_type": "code",
   "execution_count": 16,
   "metadata": {},
   "outputs": [
    {
     "name": "stdout",
     "output_type": "stream",
     "text": [
      "[ 2.] [ 0.75]\n",
      "[ 2.] [ 0.75]\n",
      "[ 2.00000001] [ 0.75000001]\n",
      "[ 0.99999999] [ 0.75000001]\n",
      "[ 1.5] [ 0.5]\n",
      "[ 1.5] [ 0.5]\n",
      "[ 1.50000001] [ 0.5]\n",
      "Optimization terminated successfully.    (Exit mode 0)\n",
      "            Current function value: 0.5\n",
      "            Iterations: 2\n",
      "            Function evaluations: 7\n",
      "            Gradient evaluations: 2\n",
      "Minima found at [ 1.5], 0.5\n"
     ]
    }
   ],
   "source": [
    "min_result = optimize_f(f)"
   ]
  },
  {
   "cell_type": "code",
   "execution_count": 21,
   "metadata": {},
   "outputs": [
    {
     "name": "stdout",
     "output_type": "stream",
     "text": [
      "[ 0.5  0.6  0.7  0.8  0.9  1.   1.1  1.2  1.3  1.4  1.5  1.6  1.7  1.8  1.9\n",
      "  2.   2.1  2.2  2.3  2.4  2.5] [ 1.5   1.31  1.14  0.99  0.86  0.75  0.66  0.59  0.54  0.51  0.5   0.51\n",
      "  0.54  0.59  0.66  0.75  0.86  0.99  1.14  1.31  1.5 ]\n"
     ]
    },
    {
     "data": {
      "image/png": "[encoded data removed]",
      "text/plain": [
       "<matplotlib.figure.Figure at 0x7f57dbe18438>"
      ]
     },
     "metadata": {},
     "output_type": "display_data"
    }
   ],
   "source": [
    "xplot = np.linspace(0.5,2.5,21)\n",
    "yplot = f(xplot)\n",
    "plt.plot(xplot, yplot)\n",
    "plt.plot(min_result.x,min_result.fun,'ro')\n",
    "plt.show()"
   ]
  },
  {
   "cell_type": "markdown",
   "metadata": {},
   "source": [
    "## Convex Functions\n",
    "\n",
    "In mathematics, a real-valued function defined on an n-dimensional interval is called convex (or convex downward or concave upward) if the line segment between any two points on the graph of the function lies above or on the graph, in a Euclidean space (or more generally a vector space) of at least two dimensions. \n",
    "\n",
    "\n",
    "<img src=\"https://upload.wikimedia.org/wikipedia/commons/3/31/Epigraph_convex.svg\" width=\"200px\">"
   ]
  },
  {
   "cell_type": "markdown",
   "metadata": {},
   "source": [
    "## Parameterized Model\n",
    "\n",
    "### Linear\n",
    "\n",
    "f(x) = mx + b where m and b are parameters\n",
    "\n",
    "Lets learn how to fit a line to a given set of data points using optimization.\n",
    "\n",
    "Defining the error function, which is the sum of squares of errors from the point to the line:"
   ]
  },
  {
   "cell_type": "code",
   "execution_count": 109,
   "metadata": {},
   "outputs": [],
   "source": [
    "def error(line,data):\n",
    "    err = np.sum((data[:, 1] - (line[0] * data[:,0] + line[1]))**2)\n",
    "    return err"
   ]
  },
  {
   "cell_type": "markdown",
   "metadata": {},
   "source": [
    "Next, we define fit_line which tries to minimize the error function:"
   ]
  },
  {
   "cell_type": "code",
   "execution_count": 113,
   "metadata": {},
   "outputs": [],
   "source": [
    "def fit_line(data, error_func):\n",
    "    \n",
    "    #initial guess - we define a list of two parameters\n",
    "    l = np.float32([0,np.mean(data[:,1])]) \n",
    "    \n",
    "    #plot initial guess\n",
    "    x_ends = np.float32([-5,5])\n",
    "    plt.plot(x_ends, l[0] * x_ends + l[1], 'm--', linewidth=2.0, label='initial guess')\n",
    "    \n",
    "    #call optimizer\n",
    "    result = spo.minimize(error_func, l, args=data, method='SLSQP', options={'disp':True})\n",
    "    \n",
    "    return result.x"
   ]
  },
  {
   "cell_type": "markdown",
   "metadata": {},
   "source": [
    "`test_run` is for setting up the graph"
   ]
  },
  {
   "cell_type": "code",
   "execution_count": 136,
   "metadata": {
    "collapsed": true
   },
   "outputs": [],
   "source": [
    "def test_run():\n",
    "    #orig line\n",
    "    l_orig = np.float32([4,2])\n",
    "    print(\"Original line is %s, %s\"%(l_orig[0],l_orig[1]))\n",
    "    xorig = np.linspace(0,10,21)\n",
    "    yorig = l_orig[0]*xorig + l_orig[1]\n",
    "    plt.plot(xorig,yorig,'b--',linewidth=2.0,label='original line')\n",
    "\n",
    "    #generate noisy datapoints\n",
    "    noise_sigma = 3.0\n",
    "    noise = np.random.normal(0, noise_sigma, yorig.shape)\n",
    "    data = np.asarray([xorig, yorig+noise]).T\n",
    "    plt.plot(data[:,0], data[:,1], 'go', label='data points')\n",
    "    \n",
    "    #fit line\n",
    "    l_fit = fit_line(data,error)\n",
    "    print(l_fit[0], l_fit[1])\n",
    "    plt.plot(data[:,0], l_fit[0]* data[:,0] + l_fit[1], 'r--', linewidth=2.0, label='line fit')\n",
    "    \n",
    "    plt.legend(loc='upper left')\n",
    "    plt.show()"
   ]
  },
  {
   "cell_type": "code",
   "execution_count": 137,
   "metadata": {},
   "outputs": [
    {
     "name": "stdout",
     "output_type": "stream",
     "text": [
      "Original line is 4.0, 2.0\n",
      "Optimization terminated successfully.    (Exit mode 0)\n",
      "            Current function value: 217.12217968029805\n",
      "            Iterations: 5\n",
      "            Function evaluations: 24\n",
      "            Gradient evaluations: 5\n",
      "4.41524179875 -1.30008091822\n"
     ]
    },
    {
     "data": {
      "image/png": "[encoded data removed]",
      "text/plain": [
       "<matplotlib.figure.Figure at 0x7f57dbbb9b00>"
      ]
     },
     "metadata": {},
     "output_type": "display_data"
    }
   ],
   "source": [
    "test_run()"
   ]
  },
  {
   "cell_type": "markdown",
   "metadata": {},
   "source": [
    "### Polynomial"
   ]
  },
  {
   "cell_type": "code",
   "execution_count": 198,
   "metadata": {
    "collapsed": true
   },
   "outputs": [],
   "source": [
    "def error_poly(C, data):\n",
    "    err = np.sum((data[:, 1] - np.polyval(C, data[:, 0]))**2)\n",
    "    return err\n",
    "\n",
    "def fit_poly(data, error_func, degree=3):\n",
    "    \n",
    "    # initial guess for polynomial\n",
    "    # poly1d is replaceable from everywhere\n",
    "    # https://docs.scipy.org/doc/numpy-1.13.0/reference/generated/numpy.poly1d.html\n",
    "    \n",
    "    cguess = np.poly1d(np.ones(degree+1,dtype=np.float32))\n",
    "    print(\"initial guess is:\")\n",
    "    print(cguess)\n",
    "    \n",
    "    #plot guess\n",
    "    xplot = np.linspace(-5,5,21)\n",
    "    plt.plot(xplot,np.polyval(cguess,xplot),'m--',linewidth=2.0, label='initial guess')\n",
    "    \n",
    "    #call optimizer\n",
    "    result = spo.minimize(error_func, cguess, args=(data), method='SLSQP', options={'disp':True})\n",
    "    return np.poly1d(result.x)"
   ]
  },
  {
   "cell_type": "code",
   "execution_count": 199,
   "metadata": {
    "collapsed": true
   },
   "outputs": [],
   "source": [
    "def test_run():\n",
    "    \n",
    "    #orig polynomial coeff\n",
    "    c_orig = np.float32([4,2,6,7])\n",
    "    print(\"Original polynomial is %s\"%(c_orig))\n",
    "    \n",
    "    xorig = np.linspace(-5,5,21)\n",
    "    yorig = np.polyval(c_orig, xorig)\n",
    "    plt.plot(xorig,yorig,'b--',linewidth=2.0,label='original line')\n",
    "\n",
    "    #generate noisy datapoints\n",
    "    noise_sigma = 80\n",
    "    noise = np.random.normal(0, noise_sigma, yorig.shape)\n",
    "    data = np.asarray([xorig, yorig+noise]).T\n",
    "    plt.plot(data[:,0], data[:,1], 'go', label='data points')\n",
    "    \n",
    "    #fit poly\n",
    "    p_fit = fit_poly(data,error_poly)\n",
    "    print(p_fit)\n",
    "    plt.plot(data[:,0], np.polyval(p_fit, data[:, 0]), 'r--', linewidth=2.0, label='line fit')\n",
    "    \n",
    "    plt.legend(loc='upper left')\n",
    "    plt.show()"
   ]
  },
  {
   "cell_type": "code",
   "execution_count": 200,
   "metadata": {},
   "outputs": [
    {
     "name": "stdout",
     "output_type": "stream",
     "text": [
      "Original polynomial is [ 4.  2.  6.  7.]\n",
      "initial guess is:\n",
      "   3     2\n",
      "1 x + 1 x + 1 x + 1\n",
      "Optimization terminated successfully.    (Exit mode 0)\n",
      "            Current function value: 89901.30420087275\n",
      "            Iterations: 8\n",
      "            Function evaluations: 61\n",
      "            Gradient evaluations: 8\n",
      "      3         2\n",
      "3.84 x + 1.464 x + 8.624 x + 18.44\n"
     ]
    },
    {
     "data": {
      "image/png": "[encoded data removed]",
      "text/plain": [
       "<matplotlib.figure.Figure at 0x7f57dbabc0f0>"
      ]
     },
     "metadata": {},
     "output_type": "display_data"
    }
   ],
   "source": [
    "test_run()"
   ]
  }
 ],
 "metadata": {
  "kernelspec": {
   "display_name": "Python 3",
   "language": "python",
   "name": "python3"
  },
  "language_info": {
   "codemirror_mode": {
    "name": "ipython",
    "version": 3
   },
   "file_extension": ".py",
   "mimetype": "text/x-python",
   "name": "python",
   "nbconvert_exporter": "python",
   "pygments_lexer": "ipython3",
   "version": "3.6.1"
  }
 },
 "nbformat": 4,
 "nbformat_minor": 2
}
