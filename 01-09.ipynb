{
 "cells": [
  {
   "cell_type": "markdown",
   "metadata": {},
   "source": [
    "# Portfolio Optimization\n",
    "created by krohak 2018-01-16"
   ]
  },
  {
   "cell_type": "code",
   "execution_count": 83,
   "metadata": {
    "collapsed": true
   },
   "outputs": [],
   "source": [
    "import os\n",
    "import pandas as pd\n",
    "import matplotlib.pyplot as plt\n",
    "import numpy as np\n",
    "import scipy.optimize as spo\n",
    "\n",
    "def symbol_to_path(symbol, base_dir=\"data\"):\n",
    "    \"\"\"Return CSV file path given ticker symbol.\"\"\"\n",
    "    return os.path.join(base_dir, \"{}.csv\".format(str(symbol)))\n",
    "\n",
    "\n",
    "def get_data(symbols, dates):\n",
    "    \"\"\"Read stock data (adjusted close) for given symbols from CSV files.\"\"\"\n",
    "    df = pd.DataFrame(index=dates)\n",
    "    if 'SPY' not in symbols:  # add SPY for reference, if absent\n",
    "        symbols.insert(0, 'SPY')\n",
    "\n",
    "    for symbol in symbols:\n",
    "        df_temp = pd.read_csv(symbol_to_path(symbol), index_col='Date',\n",
    "                parse_dates=True, usecols=['Date', 'Adj Close'], na_values=['nan'])\n",
    "        df_temp.rename(columns={'Adj Close': symbol}, inplace=True)\n",
    "        df = df.join(df_temp)\n",
    "        if symbol == 'SPY':  # drop dates SPY did not trade\n",
    "            df = df.dropna(subset=[\"SPY\"])\n",
    "    return df\n",
    "\n",
    "def compute_daily_returns(df,portfolio=False):\n",
    "    \"\"\"Compute and return the daily return values.\"\"\"\n",
    "    daily_returns = (df / df.shift(1)) - 1\n",
    "    \n",
    "    if portfolio:\n",
    "        daily_returns.iloc[0] = 0\n",
    "        return daily_returns\n",
    "    \n",
    "    daily_returns.iloc[0, :] = 0\n",
    "    return daily_returns\n",
    "\n",
    "def plot_data(df, title=\"Stock prices\", xlabel=\"Date\", ylabel=\"Price\"):\n",
    "    \"\"\"Plot stock prices with a custom title and meaningful axis labels.\"\"\"\n",
    "    ax = df.plot(title=title, fontsize=12)\n",
    "    ax.set_xlabel(xlabel)\n",
    "    ax.set_ylabel(ylabel)\n",
    "    plt.show()\n",
    "    \n",
    "def normalize_data(df,daily_return=False):\n",
    "    if daily_return:\n",
    "        return df / df.iloc[1, :]\n",
    "    return df / df.iloc[0, :]\n",
    "\n",
    "def cumulative_daily_return(df):\n",
    "    # Cumulative Return (last/first-1)\n",
    "    daily_return = compute_daily_returns(df)\n",
    "    cumulative_daily_return = (daily_return.iloc[-1,:]/daily_return.iloc[1,:])-1\n",
    "    return cumulative_daily_return\n",
    "\n",
    "def average_daily_return(df):\n",
    "    daily_return = compute_daily_returns(df)\n",
    "    return daily_return.mean(axis=0)\n",
    "\n",
    "def risk(df,portfolio=False):\n",
    "    # Risk (std of daily return)\n",
    "    daily_return = compute_daily_returns(df,portfolio)\n",
    "    return daily_return.std(axis=0)\n",
    "\n",
    "def sharpe_ratio(df,daily_rf,k=1,portfolio=False):\n",
    "    # Sharpe Ratio (daily return with risk factored in)\n",
    "    daily_return = compute_daily_returns(df,portfolio)\n",
    "    return (daily_return-daily_rf).mean()*k/daily_return.std()"
   ]
  },
  {
   "cell_type": "markdown",
   "metadata": {},
   "source": [
    "We first define a function which creates a portfolio of equities according to given allocations:"
   ]
  },
  {
   "cell_type": "code",
   "execution_count": 181,
   "metadata": {
    "collapsed": true
   },
   "outputs": [],
   "source": [
    "def allocate_equities(symbols=['XOM','GOOG','GLD','AAPL'],dates=pd.date_range('2010-01-01', '2010-12-31'),\n",
    "                      allocs=[0.4,0.4,0.1,0.1],start_val=1000000):\n",
    "    \n",
    "    # get data given symbols and dates\n",
    "    df = get_data(symbols=symbols,dates=dates)\n",
    "    \n",
    "    # remove 'SPY'\n",
    "    df = df.iloc[:,1:]\n",
    "    \n",
    "    # normalize the data\n",
    "    normed = df/df.iloc[0,:]\n",
    "    \n",
    "    # distribute funds according to allocation of equities\n",
    "    allocs=np.array(allocs)\n",
    "    alloced=(normed*allocs)\n",
    "    \n",
    "    # scaling with the real starting value\n",
    "    pos_vals=alloced*start_val\n",
    "    \n",
    "    # summing up for each day\n",
    "    port_val=pos_vals.sum(axis=1)\n",
    "    \n",
    "    return port_val"
   ]
  },
  {
   "cell_type": "code",
   "execution_count": 182,
   "metadata": {},
   "outputs": [
    {
     "data": {
      "image/png": "[encoded data removed]",
      "text/plain": [
       "<matplotlib.figure.Figure at 0x7fae7f4ecfd0>"
      ]
     },
     "metadata": {},
     "output_type": "display_data"
    }
   ],
   "source": [
    "data = allocate_equities(allocs=[0.4,0.4,0.1,0.1])\n",
    "data.plot()\n",
    "plt.show()"
   ]
  },
  {
   "cell_type": "code",
   "execution_count": 183,
   "metadata": {},
   "outputs": [
    {
     "data": {
      "text/plain": [
       "0.0025074606866161506"
      ]
     },
     "execution_count": 183,
     "metadata": {},
     "output_type": "execute_result"
    }
   ],
   "source": [
    "sharpe_ratio(data,daily_rf=0.00037828653,portfolio=True)"
   ]
  },
  {
   "cell_type": "code",
   "execution_count": 184,
   "metadata": {},
   "outputs": [
    {
     "data": {
      "text/plain": [
       "0.011184919199361128"
      ]
     },
     "execution_count": 184,
     "metadata": {},
     "output_type": "execute_result"
    }
   ],
   "source": [
    "risk(data,portfolio=True)"
   ]
  },
  {
   "cell_type": "code",
   "execution_count": 185,
   "metadata": {
    "collapsed": true
   },
   "outputs": [],
   "source": [
    "def error_func(allocs):\n",
    "    data = allocate_equities(allocs=allocs)\n",
    "    #r = risk(data,portfolio=True) # \n",
    "    r= -sharpe_ratio(data,daily_rf=0.00037828653,portfolio=True)\n",
    "    return r"
   ]
  },
  {
   "cell_type": "code",
   "execution_count": 199,
   "metadata": {
    "scrolled": true
   },
   "outputs": [
    {
     "name": "stdout",
     "output_type": "stream",
     "text": [
      "Optimization terminated successfully.    (Exit mode 0)\n",
      "            Current function value: -0.08968196003805502\n",
      "            Iterations: 9\n",
      "            Function evaluations: 54\n",
      "            Gradient evaluations: 9\n",
      "[ 0.          0.          0.49185487  0.50814513]\n"
     ]
    }
   ],
   "source": [
    "guess = np.float32([0.25,0.25,0.25,0.25])\n",
    "result = spo.minimize(error_func, guess, method='SLSQP', options={'disp':True},\n",
    "         bounds=((0,1),(0,1),(0,1),(0,1)),\n",
    "         constraints = ({ 'type': 'eq',\n",
    "                         'fun': lambda inputs: 1 - np.sum(inputs) }))\n",
    "print(result.x)"
   ]
  },
  {
   "cell_type": "code",
   "execution_count": 200,
   "metadata": {},
   "outputs": [
    {
     "data": {
      "image/png": "[encoded data removed]",
      "text/plain": [
       "<matplotlib.figure.Figure at 0x7fae7f1f23c8>"
      ]
     },
     "metadata": {},
     "output_type": "display_data"
    }
   ],
   "source": [
    "data = allocate_equities(allocs=[0,0,0.49185487,0.50814513])\n",
    "data.plot()\n",
    "plt.show()"
   ]
  },
  {
   "cell_type": "code",
   "execution_count": 201,
   "metadata": {},
   "outputs": [
    {
     "data": {
      "text/plain": [
       "0.0896819600384084"
      ]
     },
     "execution_count": 201,
     "metadata": {},
     "output_type": "execute_result"
    }
   ],
   "source": [
    "sharpe_ratio(data,daily_rf=0.00037828653,portfolio=True)"
   ]
  },
  {
   "cell_type": "code",
   "execution_count": null,
   "metadata": {
    "collapsed": true
   },
   "outputs": [],
   "source": []
  }
 ],
 "metadata": {
  "kernelspec": {
   "display_name": "Python 3",
   "language": "python",
   "name": "python3"
  },
  "language_info": {
   "codemirror_mode": {
    "name": "ipython",
    "version": 3
   },
   "file_extension": ".py",
   "mimetype": "text/x-python",
   "name": "python",
   "nbconvert_exporter": "python",
   "pygments_lexer": "ipython3",
   "version": "3.6.1"
  }
 },
 "nbformat": 4,
 "nbformat_minor": 2
}
